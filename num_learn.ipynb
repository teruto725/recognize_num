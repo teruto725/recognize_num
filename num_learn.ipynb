{
  "nbformat": 4,
  "nbformat_minor": 0,
  "metadata": {
    "colab": {
      "name": "num_learn.ipynb",
      "provenance": [],
      "collapsed_sections": [],
      "include_colab_link": true
    },
    "kernelspec": {
      "name": "python3",
      "display_name": "Python 3"
    },
    "accelerator": "GPU"
  },
  "cells": [
    {
      "cell_type": "markdown",
      "metadata": {
        "id": "view-in-github",
        "colab_type": "text"
      },
      "source": [
        "<a href=\"https://colab.research.google.com/github/teruto725/recognize_num/blob/master/num_learn.ipynb\" target=\"_parent\"><img src=\"https://colab.research.google.com/assets/colab-badge.svg\" alt=\"Open In Colab\"/></a>"
      ]
    },
    {
      "cell_type": "markdown",
      "metadata": {
        "id": "HJUPp_vsNeV_",
        "colab_type": "text"
      },
      "source": [
        "##数字認識NNを作る\n",
        "sktlearnよりMNISデータを読み込み、Chainerで作成したNNに投げ、結果を出力するとともに、学習したNNをnum_pic.netとして保存する\n",
        "1. データセット    \n",
        "MNIST\n",
        "2. 最適化手法  \n",
        "確率的勾配降下法\n",
        "3. 目的関数  \n",
        "交差エントロピー\n",
        "4. 活性化関数  \n",
        "ReLU関数\n",
        "5. ニューラルネットワーク\n",
        "入力724 出力10 3層　中間層の数 1000\n"
      ]
    },
    {
      "cell_type": "code",
      "metadata": {
        "id": "MXzqCefq4irl",
        "colab_type": "code",
        "colab": {}
      },
      "source": [
        "from chainer import Link, Chain, ChainList\n",
        "import chainer\n",
        "import chainer.functions as F\n",
        "import chainer.links as L\n",
        "from shutil import copyfileobj\n",
        "from six.moves import urllib\n",
        "from sklearn.datasets.base import get_data_home\n",
        "import matplotlib.pyplot as plot\n",
        "import numpy as np\n",
        "import os"
      ],
      "execution_count": 0,
      "outputs": []
    },
    {
      "cell_type": "code",
      "metadata": {
        "id": "_bhp7j7DD2qy",
        "colab_type": "code",
        "outputId": "b003d66b-7c90-4532-f460-4563e1697193",
        "colab": {
          "base_uri": "https://localhost:8080/",
          "height": 125
        }
      },
      "source": [
        "import google.colab.drive\n",
        "google.colab.drive.mount('gdrive')"
      ],
      "execution_count": 0,
      "outputs": [
        {
          "output_type": "stream",
          "text": [
            "Go to this URL in a browser: https://accounts.google.com/o/oauth2/auth?client_id=947318989803-6bn6qk8qdgf4n4g3pfee6491hc0brc4i.apps.googleusercontent.com&redirect_uri=urn%3aietf%3awg%3aoauth%3a2.0%3aoob&response_type=code&scope=email%20https%3a%2f%2fwww.googleapis.com%2fauth%2fdocs.test%20https%3a%2f%2fwww.googleapis.com%2fauth%2fdrive%20https%3a%2f%2fwww.googleapis.com%2fauth%2fdrive.photos.readonly%20https%3a%2f%2fwww.googleapis.com%2fauth%2fpeopleapi.readonly\n",
            "\n",
            "Enter your authorization code:\n",
            "··········\n",
            "Mounted at gdrive\n"
          ],
          "name": "stdout"
        }
      ]
    },
    {
      "cell_type": "code",
      "metadata": {
        "id": "SDFCCUlZ5MbF",
        "colab_type": "code",
        "outputId": "8506701e-9c8f-4d62-c0a6-7785491acbc3",
        "colab": {
          "base_uri": "https://localhost:8080/",
          "height": 107
        }
      },
      "source": [
        "from sklearn.datasets import fetch_mldata\n",
        "from shutil import copyfileobj\n",
        "from six.moves import urllib\n",
        "from sklearn.datasets.base import get_data_home\n",
        "import os\n",
        "\n",
        "#mnist = fetch_mldata('MNIST original', data_home=\".\")\n",
        "#このコードでエラーが出る場合は，以下を実行．\n",
        "\n",
        "def fetch_mnist(data_home=None):\n",
        "    mnist_alternative_url = \"https://github.com/amplab/datascience-sp14/raw/master/lab7/mldata/mnist-original.mat\"\n",
        "    data_home = get_data_home(data_home=data_home)\n",
        "    data_home = os.path.join(data_home, 'mldata')\n",
        "    if not os.path.exists(data_home):\n",
        "        os.makedirs(data_home)\n",
        "    mnist_save_path = os.path.join(data_home, \"mnist-original.mat\")\n",
        "    if not os.path.exists(mnist_save_path):\n",
        "        mnist_url = urllib.request.urlopen(mnist_alternative_url)\n",
        "        with open(mnist_save_path, \"wb\") as matlab_file:\n",
        "            copyfileobj(mnist_url, matlab_file)\n",
        "\n",
        "fetch_mnist()\n",
        "mnist = fetch_mldata('MNIST original')"
      ],
      "execution_count": 0,
      "outputs": [
        {
          "output_type": "stream",
          "text": [
            "/usr/local/lib/python3.6/dist-packages/sklearn/utils/deprecation.py:85: DeprecationWarning: Function fetch_mldata is deprecated; fetch_mldata was deprecated in version 0.20 and will be removed in version 0.22. Please use fetch_openml.\n",
            "  warnings.warn(msg, category=DeprecationWarning)\n",
            "/usr/local/lib/python3.6/dist-packages/sklearn/utils/deprecation.py:85: DeprecationWarning: Function mldata_filename is deprecated; mldata_filename was deprecated in version 0.20 and will be removed in version 0.22. Please use fetch_openml.\n",
            "  warnings.warn(msg, category=DeprecationWarning)\n"
          ],
          "name": "stderr"
        }
      ]
    },
    {
      "cell_type": "code",
      "metadata": {
        "id": "8wqh39kj5fEc",
        "colab_type": "code",
        "colab": {}
      },
      "source": [
        "x   = mnist.data.astype(np.float32)#入力値\n",
        "x  /= 255     # 0-1のデータに変換\n",
        "t = mnist.target.astype(np.int32)#目標値"
      ],
      "execution_count": 0,
      "outputs": []
    },
    {
      "cell_type": "code",
      "metadata": {
        "id": "UkxbPCNyKYhI",
        "colab_type": "code",
        "outputId": "f6ad4591-1fff-4e39-c02c-c79d47a582a9",
        "colab": {
          "base_uri": "https://localhost:8080/",
          "height": 52
        }
      },
      "source": [
        "from sklearn.model_selection import train_test_split\n",
        "#データセットの分割\n",
        "x_train_val, x_test, t_train_val, t_test = train_test_split(x, t, test_size=0.3, random_state=0)\n",
        "x_train, x_val, t_train, t_val = train_test_split(x_train_val, t_train_val, test_size=0.3, random_state=0)\n",
        "print(np.shape(x_train))\n",
        "#print(np.shape(x_val))\n",
        "print(np.shape(x_test))"
      ],
      "execution_count": 0,
      "outputs": [
        {
          "output_type": "stream",
          "text": [
            "(34300, 784)\n",
            "(21000, 784)\n"
          ],
          "name": "stdout"
        }
      ]
    },
    {
      "cell_type": "code",
      "metadata": {
        "id": "3IKE8UdsADGB",
        "colab_type": "code",
        "outputId": "87abf790-dab4-46ee-ef53-430935079852",
        "colab": {
          "base_uri": "https://localhost:8080/",
          "height": 120
        }
      },
      "source": [
        "def draw_digit(data):\n",
        "    size = 28\n",
        "    plot.figure(figsize=(1, 1))\n",
        "\n",
        "    X, Y = np.meshgrid(range(size),range(size))\n",
        "    Z = data.reshape(size,size)   # convert from vector to 28x28 matrix\n",
        "    Z = Z[::-1,:]             # flip vertical\n",
        "    plot.xlim(0,27)\n",
        "    plot.ylim(0,27)\n",
        "    plot.pcolor(X, Y, Z)\n",
        "    plot.gray()\n",
        "    plot.tick_params(labelbottom=\"off\")\n",
        "    plot.tick_params(labelleft=\"off\")\n",
        "\n",
        "    plot.show()\n",
        "\n",
        "draw_digit(mnist.data[5])\n",
        "print(mnist.target[5])\n"
      ],
      "execution_count": 0,
      "outputs": [
        {
          "output_type": "display_data",
          "data": {
            "image/png": "[encoded data removed]",
            "text/plain": [
              "<Figure size 72x72 with 1 Axes>"
            ]
          },
          "metadata": {
            "tags": []
          }
        },
        {
          "output_type": "stream",
          "text": [
            "0.0\n"
          ],
          "name": "stdout"
        }
      ]
    },
    {
      "cell_type": "code",
      "metadata": {
        "id": "MxFNuWYv4yXP",
        "colab_type": "code",
        "colab": {}
      },
      "source": [
        "from chainer import Sequential\n",
        "# 入力 784次元、出力 10次元\n",
        "# 中間層の数\n",
        "n_units   = 1000\n",
        "net = Sequential(L.Linear(784, n_units),F.relu,\n",
        "                    L.Linear(n_units, n_units),F.relu,\n",
        "                    L.Linear(n_units, 10))"
      ],
      "execution_count": 0,
      "outputs": []
    },
    {
      "cell_type": "code",
      "metadata": {
        "id": "ywgoCTAzAZuR",
        "colab_type": "code",
        "outputId": "c87eae8f-d0ef-42a2-aff1-1cb53f6411d8",
        "colab": {
          "base_uri": "https://localhost:8080/",
          "height": 34
        }
      },
      "source": [
        "optimizer = chainer.optimizers.SGD(lr=0.01)\n",
        "\n",
        "optimizer.setup(net)"
      ],
      "execution_count": 0,
      "outputs": [
        {
          "output_type": "execute_result",
          "data": {
            "text/plain": [
              "<chainer.optimizers.sgd.SGD at 0x7fa3a44f5908>"
            ]
          },
          "metadata": {
            "tags": []
          },
          "execution_count": 11
        }
      ]
    },
    {
      "cell_type": "code",
      "metadata": {
        "id": "Enu8PRrHM6Ov",
        "colab_type": "code",
        "colab": {}
      },
      "source": [
        "n_epoch = 20\n",
        "n_batchsize = 100"
      ],
      "execution_count": 0,
      "outputs": []
    },
    {
      "cell_type": "code",
      "metadata": {
        "id": "avrcaXUUAqhx",
        "colab_type": "code",
        "outputId": "21e0ec1a-ca6e-4c44-e91d-67acf360c804",
        "colab": {
          "base_uri": "https://localhost:8080/",
          "height": 372
        }
      },
      "source": [
        "\n",
        "iteration = 0\n",
        "\n",
        "# ログの保存用\n",
        "results_train = {\n",
        "    'loss': [],\n",
        "    'accuracy': []\n",
        "}\n",
        "results_valid = {\n",
        "    'loss': [],\n",
        "    'accuracy': []\n",
        "}\n",
        "\n",
        "\n",
        "for epoch in range(n_epoch):\n",
        "\n",
        "    # データセット並べ替えた順番を取得\n",
        "    order = np.random.permutation(range(len(x_train)))\n",
        "\n",
        "    # 各バッチ毎の目的関数の出力と分類精度の保存用\n",
        "    loss_list = []\n",
        "    accuracy_list = []\n",
        "\n",
        "    for i in range(0, len(order), n_batchsize):\n",
        "        # バッチを準備\n",
        "        index = order[i:i+n_batchsize]\n",
        "        x_train_batch = x_train[index,:]\n",
        "        t_train_batch = t_train[index]\n",
        "\n",
        "        # 予測値を出力\n",
        "        y_train_batch = net(x_train_batch)\n",
        "\n",
        "        # 目的関数を適用し、分類精度を計算\n",
        "        loss_train_batch = F.softmax_cross_entropy(y_train_batch, t_train_batch)\n",
        "        accuracy_train_batch = F.accuracy(y_train_batch, t_train_batch)\n",
        "\n",
        "        loss_list.append(loss_train_batch.array)\n",
        "        accuracy_list.append(accuracy_train_batch.array)\n",
        "\n",
        "        # 勾配のリセットと勾配の計算\n",
        "        net.cleargrads()\n",
        "        loss_train_batch.backward()\n",
        "\n",
        "        # パラメータの更新\n",
        "        optimizer.update()\n",
        "\n",
        "        # カウントアップ\n",
        "        iteration += 1\n",
        "\n",
        "    # 訓練データに対する目的関数の出力と分類精度を集計\n",
        "    loss_train = np.mean(loss_list)\n",
        "    accuracy_train = np.mean(accuracy_list)\n",
        "\n",
        "    # 1エポック終えたら、検証データで評価\n",
        "    # 検証データで予測値を出力\n",
        "    with chainer.using_config('train', False), chainer.using_config('enable_backprop', False):\n",
        "        y_val = net(x_val)\n",
        "\n",
        "    # 目的関数を適用し、分類精度を計算\n",
        "    loss_val = F.softmax_cross_entropy(y_val, t_val)\n",
        "    accuracy_val = F.accuracy(y_val, t_val)\n",
        "\n",
        "    # 結果の表示\n",
        "    print('epoch: {}, iteration: {}, loss (train): {:.4f}, loss (valid): {:.4f}'.format(\n",
        "        epoch, iteration, loss_train, loss_val.array))\n",
        "\n",
        "    # ログを保存\n",
        "    results_train['loss'] .append(loss_train)\n",
        "    results_train['accuracy'] .append(accuracy_train)\n",
        "    results_valid['loss'].append(loss_val.array)\n",
        "    results_valid['accuracy'].append(accuracy_val.array)"
      ],
      "execution_count": 0,
      "outputs": [
        {
          "output_type": "stream",
          "text": [
            "epoch: 0, iteration: 343, loss (train): 1.3864, loss (valid): 0.7313\n",
            "epoch: 1, iteration: 686, loss (train): 0.5677, loss (valid): 0.4637\n",
            "epoch: 2, iteration: 1029, loss (train): 0.4189, loss (valid): 0.3834\n",
            "epoch: 3, iteration: 1372, loss (train): 0.3610, loss (valid): 0.3475\n",
            "epoch: 4, iteration: 1715, loss (train): 0.3283, loss (valid): 0.3207\n",
            "epoch: 5, iteration: 2058, loss (train): 0.3054, loss (valid): 0.3021\n",
            "epoch: 6, iteration: 2401, loss (train): 0.2880, loss (valid): 0.2878\n",
            "epoch: 7, iteration: 2744, loss (train): 0.2738, loss (valid): 0.2760\n",
            "epoch: 8, iteration: 3087, loss (train): 0.2612, loss (valid): 0.2670\n",
            "epoch: 9, iteration: 3430, loss (train): 0.2504, loss (valid): 0.2553\n",
            "epoch: 10, iteration: 3773, loss (train): 0.2402, loss (valid): 0.2477\n",
            "epoch: 11, iteration: 4116, loss (train): 0.2316, loss (valid): 0.2386\n",
            "epoch: 12, iteration: 4459, loss (train): 0.2231, loss (valid): 0.2315\n",
            "epoch: 13, iteration: 4802, loss (train): 0.2153, loss (valid): 0.2261\n",
            "epoch: 14, iteration: 5145, loss (train): 0.2077, loss (valid): 0.2205\n",
            "epoch: 15, iteration: 5488, loss (train): 0.2009, loss (valid): 0.2136\n",
            "epoch: 16, iteration: 5831, loss (train): 0.1944, loss (valid): 0.2087\n",
            "epoch: 17, iteration: 6174, loss (train): 0.1882, loss (valid): 0.2032\n",
            "epoch: 18, iteration: 6517, loss (train): 0.1823, loss (valid): 0.1982\n",
            "epoch: 19, iteration: 6860, loss (train): 0.1766, loss (valid): 0.1929\n"
          ],
          "name": "stdout"
        }
      ]
    },
    {
      "cell_type": "code",
      "metadata": {
        "id": "MDLqz8vzAxlc",
        "colab_type": "code",
        "outputId": "f449bbbe-c898-491b-afab-877e1430bb1c",
        "colab": {
          "base_uri": "https://localhost:8080/",
          "height": 282
        }
      },
      "source": [
        "\n",
        "# 目的関数の出力 (loss)\n",
        "plot.plot(results_train['loss'], label='train')  # label で凡例の設定\n",
        "plot.plot(results_valid['loss'], label='valid')  # label で凡例の設定\n",
        "plot.legend()  # 凡例の表示"
      ],
      "execution_count": 0,
      "outputs": [
        {
          "output_type": "execute_result",
          "data": {
            "text/plain": [
              "<matplotlib.legend.Legend at 0x7fa3a0da80f0>"
            ]
          },
          "metadata": {
            "tags": []
          },
          "execution_count": 14
        },
        {
          "output_type": "display_data",
          "data": {
            "image/png": "[encoded data removed]",
            "text/plain": [
              "<Figure size 432x288 with 1 Axes>"
            ]
          },
          "metadata": {
            "tags": []
          }
        }
      ]
    },
    {
      "cell_type": "code",
      "metadata": {
        "id": "iiOZtrEPeS0M",
        "colab_type": "code",
        "outputId": "1dc253b4-58c5-4b52-db0b-bdf67b5961da",
        "colab": {
          "base_uri": "https://localhost:8080/",
          "height": 282
        }
      },
      "source": [
        "\n",
        "# 分類精度 (accuracy)\n",
        "plot.plot(results_train['accuracy'], label='train')  # label で凡例の設定\n",
        "plot.plot(results_valid['accuracy'], label='valid')  # label で凡例の設定\n",
        "plot.legend()  # 凡例の表示"
      ],
      "execution_count": 0,
      "outputs": [
        {
          "output_type": "execute_result",
          "data": {
            "text/plain": [
              "<matplotlib.legend.Legend at 0x7fa3a0d2dcf8>"
            ]
          },
          "metadata": {
            "tags": []
          },
          "execution_count": 15
        },
        {
          "output_type": "display_data",
          "data": {
            "image/png": "[encoded data removed]",
            "text/plain": [
              "<Figure size 432x288 with 1 Axes>"
            ]
          },
          "metadata": {
            "tags": []
          }
        }
      ]
    },
    {
      "cell_type": "code",
      "metadata": {
        "id": "pcDDcSwzgHoU",
        "colab_type": "code",
        "colab": {}
      },
      "source": [
        "with chainer.using_config('train', False), chainer.using_config('enable_backprop', False):\n",
        "    y_test = net(x_test)"
      ],
      "execution_count": 0,
      "outputs": []
    },
    {
      "cell_type": "code",
      "metadata": {
        "id": "jfttjuxugP5i",
        "colab_type": "code",
        "outputId": "27d6cb60-714f-4661-eab3-9dedc5f042aa",
        "colab": {
          "base_uri": "https://localhost:8080/",
          "height": 34
        }
      },
      "source": [
        "accuracy_test = F.accuracy(y_test, t_test)\n",
        "accuracy_test.array"
      ],
      "execution_count": 0,
      "outputs": [
        {
          "output_type": "execute_result",
          "data": {
            "text/plain": [
              "array(0.9435238, dtype=float32)"
            ]
          },
          "metadata": {
            "tags": []
          },
          "execution_count": 17
        }
      ]
    },
    {
      "cell_type": "code",
      "metadata": {
        "id": "T5cvEH2feOIR",
        "colab_type": "code",
        "colab": {}
      },
      "source": [
        "chainer.serializers.save_npz('num_pic.net', net)"
      ],
      "execution_count": 0,
      "outputs": []
    },
    {
      "cell_type": "code",
      "metadata": {
        "id": "1gCgpDmvi5IZ",
        "colab_type": "code",
        "outputId": "a4927776-f639-4838-b93a-fb3a8a7cbcf4",
        "colab": {
          "base_uri": "https://localhost:8080/",
          "height": 34
        }
      },
      "source": [
        "ls"
      ],
      "execution_count": 0,
      "outputs": [
        {
          "output_type": "stream",
          "text": [
            "num_pic.net  \u001b[0m\u001b[01;34msample_data\u001b[0m/\n"
          ],
          "name": "stdout"
        }
      ]
    },
    {
      "cell_type": "code",
      "metadata": {
        "id": "O8eWRmDNi6E5",
        "colab_type": "code",
        "colab": {}
      },
      "source": [
        "loaded_net = Sequential(L.Linear(784, n_units),F.relu,\n",
        "                    L.Linear(n_units, n_units),F.relu,\n",
        "                    L.Linear(n_units, 10))"
      ],
      "execution_count": 0,
      "outputs": []
    },
    {
      "cell_type": "code",
      "metadata": {
        "id": "n2dtcGAzi9hj",
        "colab_type": "code",
        "colab": {}
      },
      "source": [
        "chainer.serializers.load_npz('num_pic.net', loaded_net)"
      ],
      "execution_count": 0,
      "outputs": []
    },
    {
      "cell_type": "code",
      "metadata": {
        "id": "bv5yllTpjtyT",
        "colab_type": "code",
        "outputId": "dfeb2599-e053-4806-897c-99ff0d7cb7a3",
        "colab": {
          "base_uri": "https://localhost:8080/",
          "height": 247
        }
      },
      "source": [
        "with chainer.using_config('train', False), chainer.using_config('enable_backprop', False):\n",
        "    y_test = loaded_net(x_test)\n",
        "y_test"
      ],
      "execution_count": 0,
      "outputs": [
        {
          "output_type": "execute_result",
          "data": {
            "text/plain": [
              "variable([[ -4.313723  ,   7.0225916 ,   1.3074135 , ...,   1.4719822 ,\n",
              "             0.12277101,  -1.9890753 ],\n",
              "          [ -2.887788  , -10.144709  ,  -1.5012285 , ...,   1.4859335 ,\n",
              "             1.8132539 ,   9.049821  ],\n",
              "          [ -5.956624  ,   2.8602147 ,   9.374318  , ...,   3.376083  ,\n",
              "             0.6507863 ,  -3.7095132 ],\n",
              "          ...,\n",
              "          [ -5.0707216 ,   7.8461747 ,   1.6084187 , ...,   0.5359857 ,\n",
              "             1.2886262 ,  -2.0945163 ],\n",
              "          [ -3.8224885 ,  -2.4017909 ,  -0.7819161 , ...,   0.25005022,\n",
              "             1.1794322 ,   3.451763  ],\n",
              "          [ -3.724019  ,   0.44527   ,   2.4330702 , ...,  -1.5249478 ,\n",
              "             2.2242007 ,   0.25903794]])"
            ]
          },
          "metadata": {
            "tags": []
          },
          "execution_count": 22
        }
      ]
    },
    {
      "cell_type": "code",
      "metadata": {
        "id": "-YZXLsG5jlUr",
        "colab_type": "code",
        "outputId": "d25d4f16-1465-4bef-ded7-9fb27562baf5",
        "colab": {
          "base_uri": "https://localhost:8080/",
          "height": 325
        }
      },
      "source": [
        "for i in range(3):\n",
        "  draw_digit(x_test[i])\n",
        "  print(np.argmax(y_test[i,:].array))"
      ],
      "execution_count": 0,
      "outputs": [
        {
          "output_type": "display_data",
          "data": {
            "image/png": "[encoded data removed]",
            "text/plain": [
              "<Figure size 72x72 with 1 Axes>"
            ]
          },
          "metadata": {
            "tags": []
          }
        },
        {
          "output_type": "stream",
          "text": [
            "1\n"
          ],
          "name": "stdout"
        },
        {
          "output_type": "display_data",
          "data": {
            "image/png": "[encoded data removed]",
            "text/plain": [
              "<Figure size 72x72 with 1 Axes>"
            ]
          },
          "metadata": {
            "tags": []
          }
        },
        {
          "output_type": "stream",
          "text": [
            "9\n"
          ],
          "name": "stdout"
        },
        {
          "output_type": "display_data",
          "data": {
            "image/png": "[encoded data removed]",
            "text/plain": [
              "<Figure size 72x72 with 1 Axes>"
            ]
          },
          "metadata": {
            "tags": []
          }
        },
        {
          "output_type": "stream",
          "text": [
            "2\n"
          ],
          "name": "stdout"
        }
      ]
    },
    {
      "cell_type": "code",
      "metadata": {
        "id": "ZQf8eRfQn-OL",
        "colab_type": "code",
        "outputId": "1601232a-9805-44a2-dd6c-c246ef413e48",
        "colab": {
          "base_uri": "https://localhost:8080/",
          "height": 736
        }
      },
      "source": [
        "for i in range(100):\n",
        "  if t_test[i] != np.argmax(y_test[i,:].array):\n",
        "    draw_digit(x_test[i])  \n",
        "    print(np.argmax(y_test[i,:].array))"
      ],
      "execution_count": 0,
      "outputs": [
        {
          "output_type": "display_data",
          "data": {
            "image/png": "[encoded data removed]",
            "text/plain": [
              "<Figure size 72x72 with 1 Axes>"
            ]
          },
          "metadata": {
            "tags": []
          }
        },
        {
          "output_type": "stream",
          "text": [
            "8\n"
          ],
          "name": "stdout"
        },
        {
          "output_type": "display_data",
          "data": {
            "image/png": "[encoded data removed]",
            "text/plain": [
              "<Figure size 72x72 with 1 Axes>"
            ]
          },
          "metadata": {
            "tags": []
          }
        },
        {
          "output_type": "stream",
          "text": [
            "4\n"
          ],
          "name": "stdout"
        },
        {
          "output_type": "display_data",
          "data": {
            "image/png": "[encoded data removed]",
            "text/plain": [
              "<Figure size 72x72 with 1 Axes>"
            ]
          },
          "metadata": {
            "tags": []
          }
        },
        {
          "output_type": "stream",
          "text": [
            "3\n"
          ],
          "name": "stdout"
        },
        {
          "output_type": "display_data",
          "data": {
            "image/png": "[encoded data removed]",
            "text/plain": [
              "<Figure size 72x72 with 1 Axes>"
            ]
          },
          "metadata": {
            "tags": []
          }
        },
        {
          "output_type": "stream",
          "text": [
            "6\n"
          ],
          "name": "stdout"
        },
        {
          "output_type": "display_data",
          "data": {
            "image/png": "[encoded data removed]",
            "text/plain": [
              "<Figure size 72x72 with 1 Axes>"
            ]
          },
          "metadata": {
            "tags": []
          }
        },
        {
          "output_type": "stream",
          "text": [
            "8\n"
          ],
          "name": "stdout"
        },
        {
          "output_type": "display_data",
          "data": {
            "image/png": "[encoded data removed]",
            "text/plain": [
              "<Figure size 72x72 with 1 Axes>"
            ]
          },
          "metadata": {
            "tags": []
          }
        },
        {
          "output_type": "stream",
          "text": [
            "7\n"
          ],
          "name": "stdout"
        },
        {
          "output_type": "display_data",
          "data": {
            "image/png": "[encoded data removed]",
            "text/plain": [
              "<Figure size 72x72 with 1 Axes>"
            ]
          },
          "metadata": {
            "tags": []
          }
        },
        {
          "output_type": "stream",
          "text": [
            "8\n"
          ],
          "name": "stdout"
        }
      ]
    },
    {
      "cell_type": "markdown",
      "metadata": {
        "id": "2GZH-vc3Rd6v",
        "colab_type": "text"
      },
      "source": [
        "#結果\n",
        "いい感じに分類できた"
      ]
    }
  ]
}