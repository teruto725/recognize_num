{
  "nbformat": 4,
  "nbformat_minor": 0,
  "metadata": {
    "colab": {
      "name": "create_cnn.ipynb",
      "provenance": [],
      "collapsed_sections": [],
      "include_colab_link": true
    },
    "kernelspec": {
      "name": "python3",
      "display_name": "Python 3"
    },
    "accelerator": "GPU"
  },
  "cells": [
    {
      "cell_type": "markdown",
      "metadata": {
        "id": "view-in-github",
        "colab_type": "text"
      },
      "source": [
        "<a href=\"https://colab.research.google.com/github/teruto725/recognize_num/blob/master/create_cnn.ipynb\" target=\"_parent\"><img src=\"https://colab.research.google.com/assets/colab-badge.svg\" alt=\"Open In Colab\"/></a>"
      ]
    },
    {
      "cell_type": "markdown",
      "metadata": {
        "id": "oKKHVnU1u_rH",
        "colab_type": "text"
      },
      "source": [
        "##CNNを用いたmnist画像認識\n",
        "mnistの手書き数字をCNNを用いて認識を行い、その結果を表示する。また作成したCNNについてはファイルとして出力する。"
      ]
    },
    {
      "cell_type": "code",
      "metadata": {
        "id": "7VAdJcWuu5hE",
        "colab_type": "code",
        "colab": {}
      },
      "source": [
        "import chainer\n",
        "import chainer.functions as F\n",
        "import chainer.links as L\n",
        "import numpy as np\n",
        "from chainer import Chain, optimizers, Variable, serializers"
      ],
      "execution_count": 0,
      "outputs": []
    },
    {
      "cell_type": "code",
      "metadata": {
        "id": "DVjr3nFZvlN5",
        "colab_type": "code",
        "colab": {
          "base_uri": "https://localhost:8080/",
          "height": 110
        },
        "outputId": "4353ad6d-ffd1-49d6-f509-d0cb087e7471"
      },
      "source": [
        "from sklearn.datasets import fetch_mldata\n",
        "from shutil import copyfileobj\n",
        "from six.moves import urllib\n",
        "from sklearn.datasets.base import get_data_home\n",
        "import os\n",
        "\n",
        "#mnist = fetch_mldata('MNIST original', data_home=\".\")\n",
        "#このコードでエラーが出る場合は，以下を実行．\n",
        "\n",
        "def fetch_mnist(data_home=None):\n",
        "    mnist_alternative_url = \"https://github.com/amplab/datascience-sp14/raw/master/lab7/mldata/mnist-original.mat\"\n",
        "    data_home = get_data_home(data_home=data_home)\n",
        "    data_home = os.path.join(data_home, 'mldata')\n",
        "    if not os.path.exists(data_home):\n",
        "        os.makedirs(data_home)\n",
        "    mnist_save_path = os.path.join(data_home, \"mnist-original.mat\")\n",
        "    if not os.path.exists(mnist_save_path):\n",
        "        mnist_url = urllib.request.urlopen(mnist_alternative_url)\n",
        "        with open(mnist_save_path, \"wb\") as matlab_file:\n",
        "            copyfileobj(mnist_url, matlab_file)\n",
        "\n",
        "fetch_mnist()\n",
        "mnist = fetch_mldata('MNIST original')"
      ],
      "execution_count": 2,
      "outputs": [
        {
          "output_type": "stream",
          "text": [
            "/usr/local/lib/python3.6/dist-packages/sklearn/utils/deprecation.py:85: DeprecationWarning: Function fetch_mldata is deprecated; fetch_mldata was deprecated in version 0.20 and will be removed in version 0.22. Please use fetch_openml.\n",
            "  warnings.warn(msg, category=DeprecationWarning)\n",
            "/usr/local/lib/python3.6/dist-packages/sklearn/utils/deprecation.py:85: DeprecationWarning: Function mldata_filename is deprecated; mldata_filename was deprecated in version 0.20 and will be removed in version 0.22. Please use fetch_openml.\n",
            "  warnings.warn(msg, category=DeprecationWarning)\n"
          ],
          "name": "stderr"
        }
      ]
    },
    {
      "cell_type": "code",
      "metadata": {
        "id": "tibxSSQDzvRX",
        "colab_type": "code",
        "colab": {}
      },
      "source": [
        "import matplotlib.pyplot as plot\n",
        "#表示用メソッド\n",
        "def draw_digit(data):\n",
        "    size = 28\n",
        "    plot.figure(figsize=(1, 1))\n",
        "\n",
        "    X, Y = np.meshgrid(range(size),range(size))\n",
        "    Z = data.reshape(size,size)   # convert from vector to 28x28 matrix\n",
        "    Z = Z[::-1,:]             # flip vertical\n",
        "    plot.xlim(0,27)\n",
        "    plot.ylim(0,27)\n",
        "    plot.pcolor(X, Y, Z)\n",
        "    plot.gray()\n",
        "    plot.tick_params(labelbottom=\"off\")\n",
        "    plot.tick_params(labelleft=\"off\")\n",
        "\n",
        "    plot.show()\n"
      ],
      "execution_count": 0,
      "outputs": []
    },
    {
      "cell_type": "code",
      "metadata": {
        "id": "ZFBnldQUxBRN",
        "colab_type": "code",
        "colab": {
          "base_uri": "https://localhost:8080/",
          "height": 54
        },
        "outputId": "eac246d9-11c5-402a-84b5-c3dbf8a3acd8"
      },
      "source": [
        "x   = mnist.data.astype(np.float32)#入力値\n",
        "x  /= 255     # 0-1のデータに変換\n",
        "t = mnist.target.astype(np.int32)#目標値\n",
        "from sklearn.model_selection import train_test_split\n",
        "#データセットの分割\n",
        "x_train_val, x_test, t_train_val, t_test = train_test_split(x, t, test_size=0.3, random_state=0)\n",
        "x_train, x_val, t_train, t_val = train_test_split(x_train_val, t_train_val, test_size=0.3, random_state=0)\n",
        "\n",
        "#データの整形\n",
        "print(np.shape(x_train))\n",
        "x_train = x_train.reshape((len(x_train), 1, 28, 28))\n",
        "print(np.shape(x_train))\n",
        "x_test = x_test.reshape((len(x_test), 1, 28, 28))"
      ],
      "execution_count": 4,
      "outputs": [
        {
          "output_type": "stream",
          "text": [
            "(34300, 784)\n",
            "(34300, 1, 28, 28)\n"
          ],
          "name": "stdout"
        }
      ]
    },
    {
      "cell_type": "markdown",
      "metadata": {
        "id": "mMvrUj8e6tSQ",
        "colab_type": "text"
      },
      "source": [
        "#convolution2Dについて\n",
        "L.Convolution2D(inputPtn, convOutPtn, filtersize)   \n",
        "inputPtn:入力画像が何次元か グレースケールなら1 カラーなら3  \n",
        "convOutPtn:  \n",
        "filtersize: フィルターのサイズ3×4なら(3,4)　5*5 なら5"
      ]
    },
    {
      "cell_type": "code",
      "metadata": {
        "id": "mlsGbtH2xEQq",
        "colab_type": "code",
        "colab": {}
      },
      "source": [
        "from chainer import Sequential\n",
        "# 入力 784次元、出力 10次元\n",
        "# 中間層の数\n",
        "#convolution2D()\n",
        "n_units   = 1000\n",
        "class CNN(Chain):\n",
        "    def __init__(self):\n",
        "        super(CNN, self).__init__(\n",
        "            conv1 = L.Convolution2D(1, 20, 5), # filter 5\n",
        "            conv2 = L.Convolution2D(20, 50, 5), # filter 5\n",
        "            l1 = L.Linear(800, 500),\n",
        "            l2 = L.Linear(500, 500),\n",
        "            l3 = L.Linear(500, 10, initialW=np.zeros((10, 500), dtype=np.float32))\n",
        "        )\n",
        "    def forward(self, x):\n",
        "        h = F.max_pooling_2d(F.relu(self.conv1(x)), 2)\n",
        "        h = F.max_pooling_2d(F.relu(self.conv2(h)), 2)\n",
        "        h = F.relu(self.l1(h))\n",
        "        h = F.relu(self.l2(h))\n",
        "        h = self.l3(h)\n",
        "        return h"
      ],
      "execution_count": 0,
      "outputs": []
    },
    {
      "cell_type": "code",
      "metadata": {
        "id": "9EAggbm8x9sm",
        "colab_type": "code",
        "colab": {
          "base_uri": "https://localhost:8080/",
          "height": 35
        },
        "outputId": "bbb2f91c-b113-4088-cae0-9977aac03370"
      },
      "source": [
        "#最適化手法\n",
        "model = CNN()\n",
        "optimizer = chainer.optimizers.Adam()\n",
        "optimizer.setup(model)"
      ],
      "execution_count": 6,
      "outputs": [
        {
          "output_type": "execute_result",
          "data": {
            "text/plain": [
              "<chainer.optimizers.adam.Adam at 0x7fe64ab14390>"
            ]
          },
          "metadata": {
            "tags": []
          },
          "execution_count": 6
        }
      ]
    },
    {
      "cell_type": "code",
      "metadata": {
        "id": "1jsy2meqzjcK",
        "colab_type": "code",
        "colab": {
          "base_uri": "https://localhost:8080/",
          "height": 126
        },
        "outputId": "fbfc03dd-c96e-4a77-9769-fb679a8ebf8c"
      },
      "source": [
        "n_epoch = 5\n",
        "batch_size = 1000\n",
        "for epoch in range(n_epoch):\n",
        "    sum_loss = 0\n",
        "    sum_accuracy = 0\n",
        "    perm = np.random.permutation(len(x_train))\n",
        "    for i in range(0, len(x_train), batch_size):\n",
        "        x = Variable(x_train[perm[i:i+batch_size]])\n",
        "        t = Variable(t_train[perm[i:i+batch_size]])\n",
        "        y = model.forward(x)\n",
        "        model.zerograds()\n",
        "        loss = F.softmax_cross_entropy(y, t)\n",
        "        acc = F.accuracy(y, t)\n",
        "        loss.backward()\n",
        "        optimizer.update()\n",
        "        sum_loss += loss.data*batch_size\n",
        "        sum_accuracy += acc.data*batch_size\n",
        "    print(\"epoch: {}, mean loss: {}, mean accuracy: {}\".format(epoch, sum_loss/len(x_train), sum_accuracy/len(x_train)))\n",
        "\n",
        "#testに対する学習\n",
        "cnt = 0\n",
        "for i in range(10000):\n",
        "    x = Variable(np.array([x_test[i]], dtype=np.float32))\n",
        "    t = t_test[i]\n",
        "    y = model.forward(x)\n",
        "    y = np.argmax(y.data[0])\n",
        "    if t == y:\n",
        "        cnt += 1\n",
        "\n",
        "print(\"accuracy: {}\".format(cnt/10000))"
      ],
      "execution_count": 7,
      "outputs": [
        {
          "output_type": "stream",
          "text": [
            "epoch: 0, mean loss: 0.9416338175795864, mean accuracy: 0.74851311678094\n",
            "epoch: 1, mean loss: 0.2174220132063151, mean accuracy: 0.9562293520474225\n",
            "epoch: 2, mean loss: 0.1225710612431212, mean accuracy: 0.9844703542247806\n",
            "epoch: 3, mean loss: 0.08820869376117217, mean accuracy: 0.9928862902582908\n",
            "epoch: 4, mean loss: 0.06563015607981224, mean accuracy: 0.9997278973242979\n",
            "accuracy: 0.9782\n"
          ],
          "name": "stdout"
        }
      ]
    },
    {
      "cell_type": "code",
      "metadata": {
        "id": "WMkPoD30Q8w1",
        "colab_type": "code",
        "colab": {}
      },
      "source": [
        "chainer.serializers.save_npz('num_cnn.net', model)"
      ],
      "execution_count": 0,
      "outputs": []
    },
    {
      "cell_type": "markdown",
      "metadata": {
        "id": "QsN9DV8VRmkR",
        "colab_type": "text"
      },
      "source": [
        "# 結果\n",
        "NNよりはaccuracyいい感じ"
      ]
    },
    {
      "cell_type": "markdown",
      "metadata": {
        "id": "KR2LUenQyiow",
        "colab_type": "text"
      },
      "source": [
        "## 参考文献\n",
        "optimizerの最適化手法：  \n",
        "MomentumSGDが一番いいらしい\n",
        "https://www.iandprogram.net/entry/2016/02/11/181322#%E6%9C%80%E9%81%A9%E5%8C%96%E3%81%A8%E3%81%AF"
      ]
    }
  ]
}